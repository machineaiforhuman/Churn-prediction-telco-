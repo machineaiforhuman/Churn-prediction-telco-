{
 "cells": [
  {
   "cell_type": "markdown",
   "metadata": {},
   "source": [
    "## Churn prediction using machine learning"
   ]
  },
  {
   "cell_type": "markdown",
   "metadata": {},
   "source": [
    "##### What is churn prediction?"
   ]
  },
  {
   "cell_type": "markdown",
   "metadata": {},
   "source": [
    "Churn prediction means when you predict whether the customer is leaving the product/service or not using historical data. \n",
    "Churn prediction is a very important business problem because it is costly to bring a new customer as compare to retaining the existing one. "
   ]
  },
  {
   "cell_type": "markdown",
   "metadata": {},
   "source": [
    "##### Benefits:\n",
    "1. Easy way to maintain the customer base for a business.\n",
    "2. Churn prediction can save millions of dollars for bigger companies. \n",
    "3. A way to analys the behavious of your custormes through data.\n"
   ]
  },
  {
   "cell_type": "markdown",
   "metadata": {},
   "source": [
    "### Data understanding"
   ]
  },
  {
   "cell_type": "markdown",
   "metadata": {},
   "source": [
    "The data which we have used for this problem is the data of a telecom company. This data contains three CSV files.\n",
    "The file with the name 'data_local_billing.csv' contains 16 features and 3333 samples.The file with the name of \n",
    "'data_international_billing.csv' 5 columns and 3326 samples. The third file with the name 'data_churn_target' \n",
    "contains two columns.\n",
    "We will combine these three files after loading the data.\n",
    "\n",
    "Feature information:\n",
    "\n",
    "data_local_billing.csv file\n",
    "1. Phone: Phone number of the customer\n",
    "2. Account Length: accounts time or duration\n",
    "3. Area code: Customer area code\n",
    "4. stat: The stat in which customer is living\n",
    "5. VMail plan: number of voice mails \n",
    "6. Vmail Messages: voice mail messages\n",
    "7. Day Mins: Number of calling minutes during day\n",
    "8. Day Calls: Number of calls during day.\n",
    "9. Day Charge: Charges during day\n",
    "10. Eve Mins: Number of calling minutes during evening\n",
    "11. Eve Calls: Number of calls during evening.\n",
    "12. Eve Charge: Charges during evening\n",
    "13. Night Mins: Number of calling minutes during night\n",
    "14. Night Calls: Number of calls during night\n",
    "15. Night Charge : Charges during night\n",
    "16. CustServ Calls: Customer service calls \n",
    "\n",
    "data_international_billing.csv file\n",
    "1. Phone: Phone number of the customer\n",
    "2. Intl Plan: Internationla subscription\n",
    "2. Intl Mins: Number of international calling minutes.\n",
    "3. Intl Calls : Number of international calls\n",
    "4. Intl Charge : Charges from international calls\n",
    "\n",
    "\n",
    "data_churn_target.csv file\n",
    "1. Phone: Phone number of the customer\n",
    "2. Churn?: Churned or not\n"
   ]
  },
  {
   "cell_type": "code",
   "execution_count": 20,
   "metadata": {
    "collapsed": true
   },
   "outputs": [],
   "source": [
    "#importing liberies:\n",
    "#your code here\n",
    "import pandas as pd\n",
    "import numpy as np\n",
    "import matplotlib.pyplot as plt\n",
    "from sklearn.model_selection import train_test_split\n"
   ]
  },
  {
   "cell_type": "markdown",
   "metadata": {},
   "source": [
    "##### Load data "
   ]
  },
  {
   "cell_type": "code",
   "execution_count": 2,
   "metadata": {
    "collapsed": true
   },
   "outputs": [],
   "source": [
    "int_billing = pd.read_csv('directory.../data_international_billing.csv', sep = ',')\n",
    "local_billing = pd.read_csv('directory.../data_local_billing.csv', sep = ',')\n",
    "churn_target = pd.read_csv('directory.../data_churn_target.csv', sep = ',')"
   ]
  },
  {
   "cell_type": "markdown",
   "metadata": {},
   "source": [
    "##### Combining the data into a single dataframe file"
   ]
  },
  {
   "cell_type": "code",
   "execution_count": 3,
   "metadata": {},
   "outputs": [
    {
     "data": {
      "text/html": [
       "<div>\n",
       "<style>\n",
       "    .dataframe thead tr:only-child th {\n",
       "        text-align: right;\n",
       "    }\n",
       "\n",
       "    .dataframe thead th {\n",
       "        text-align: left;\n",
       "    }\n",
       "\n",
       "    .dataframe tbody tr th {\n",
       "        vertical-align: top;\n",
       "    }\n",
       "</style>\n",
       "<table border=\"1\" class=\"dataframe\">\n",
       "  <thead>\n",
       "    <tr style=\"text-align: right;\">\n",
       "      <th></th>\n",
       "      <th>Phone</th>\n",
       "      <th>Int'l Plan</th>\n",
       "      <th>Intl Mins</th>\n",
       "      <th>Intl Calls</th>\n",
       "      <th>Intl Charge</th>\n",
       "      <th>State</th>\n",
       "      <th>Account Length</th>\n",
       "      <th>Area Code</th>\n",
       "      <th>VMail Plan</th>\n",
       "      <th>VMail Message</th>\n",
       "      <th>...</th>\n",
       "      <th>Day Calls</th>\n",
       "      <th>Day Charge</th>\n",
       "      <th>Eve Mins</th>\n",
       "      <th>Eve Calls</th>\n",
       "      <th>Eve Charge</th>\n",
       "      <th>Night Mins</th>\n",
       "      <th>Night Calls</th>\n",
       "      <th>Night Charge</th>\n",
       "      <th>CustServ Calls</th>\n",
       "      <th>Churn?</th>\n",
       "    </tr>\n",
       "  </thead>\n",
       "  <tbody>\n",
       "    <tr>\n",
       "      <th>0</th>\n",
       "      <td>422-9964</td>\n",
       "      <td>no</td>\n",
       "      <td>11.8</td>\n",
       "      <td>3.0</td>\n",
       "      <td>3.19</td>\n",
       "      <td>NJ</td>\n",
       "      <td>72</td>\n",
       "      <td>415</td>\n",
       "      <td>no</td>\n",
       "      <td>0.0</td>\n",
       "      <td>...</td>\n",
       "      <td>103.0</td>\n",
       "      <td>29.84</td>\n",
       "      <td>132.3</td>\n",
       "      <td>120.0</td>\n",
       "      <td>11.25</td>\n",
       "      <td>242.9</td>\n",
       "      <td>96.0</td>\n",
       "      <td>10.93</td>\n",
       "      <td>1</td>\n",
       "      <td>False.</td>\n",
       "    </tr>\n",
       "    <tr>\n",
       "      <th>1</th>\n",
       "      <td>422-8344</td>\n",
       "      <td>no</td>\n",
       "      <td>10.9</td>\n",
       "      <td>1.0</td>\n",
       "      <td>2.94</td>\n",
       "      <td>WY</td>\n",
       "      <td>124</td>\n",
       "      <td>415</td>\n",
       "      <td>no</td>\n",
       "      <td>0.0</td>\n",
       "      <td>...</td>\n",
       "      <td>102.0</td>\n",
       "      <td>30.31</td>\n",
       "      <td>235.0</td>\n",
       "      <td>120.0</td>\n",
       "      <td>19.98</td>\n",
       "      <td>239.7</td>\n",
       "      <td>119.0</td>\n",
       "      <td>10.79</td>\n",
       "      <td>3</td>\n",
       "      <td>False.</td>\n",
       "    </tr>\n",
       "    <tr>\n",
       "      <th>2</th>\n",
       "      <td>422-8333</td>\n",
       "      <td>no</td>\n",
       "      <td>10.8</td>\n",
       "      <td>4.0</td>\n",
       "      <td>2.92</td>\n",
       "      <td>NE</td>\n",
       "      <td>78</td>\n",
       "      <td>510</td>\n",
       "      <td>yes</td>\n",
       "      <td>32.0</td>\n",
       "      <td>...</td>\n",
       "      <td>116.0</td>\n",
       "      <td>35.75</td>\n",
       "      <td>192.2</td>\n",
       "      <td>83.0</td>\n",
       "      <td>16.34</td>\n",
       "      <td>246.1</td>\n",
       "      <td>92.0</td>\n",
       "      <td>11.07</td>\n",
       "      <td>6</td>\n",
       "      <td>False.</td>\n",
       "    </tr>\n",
       "    <tr>\n",
       "      <th>3</th>\n",
       "      <td>422-8268</td>\n",
       "      <td>yes</td>\n",
       "      <td>11.2</td>\n",
       "      <td>7.0</td>\n",
       "      <td>3.02</td>\n",
       "      <td>RI</td>\n",
       "      <td>107</td>\n",
       "      <td>510</td>\n",
       "      <td>no</td>\n",
       "      <td>0.0</td>\n",
       "      <td>...</td>\n",
       "      <td>83.0</td>\n",
       "      <td>33.05</td>\n",
       "      <td>247.8</td>\n",
       "      <td>84.0</td>\n",
       "      <td>21.06</td>\n",
       "      <td>245.4</td>\n",
       "      <td>93.0</td>\n",
       "      <td>11.04</td>\n",
       "      <td>2</td>\n",
       "      <td>False.</td>\n",
       "    </tr>\n",
       "    <tr>\n",
       "      <th>4</th>\n",
       "      <td>422-7728</td>\n",
       "      <td>no</td>\n",
       "      <td>9.7</td>\n",
       "      <td>5.0</td>\n",
       "      <td>2.62</td>\n",
       "      <td>NY</td>\n",
       "      <td>64</td>\n",
       "      <td>408</td>\n",
       "      <td>no</td>\n",
       "      <td>0.0</td>\n",
       "      <td>...</td>\n",
       "      <td>126.0</td>\n",
       "      <td>37.33</td>\n",
       "      <td>303.3</td>\n",
       "      <td>100.0</td>\n",
       "      <td>25.78</td>\n",
       "      <td>154.5</td>\n",
       "      <td>65.0</td>\n",
       "      <td>6.95</td>\n",
       "      <td>1</td>\n",
       "      <td>False.</td>\n",
       "    </tr>\n",
       "  </tbody>\n",
       "</table>\n",
       "<p>5 rows × 21 columns</p>\n",
       "</div>"
      ],
      "text/plain": [
       "      Phone Int'l Plan  Intl Mins  Intl Calls  Intl Charge State  \\\n",
       "0  422-9964         no       11.8         3.0         3.19    NJ   \n",
       "1  422-8344         no       10.9         1.0         2.94    WY   \n",
       "2  422-8333         no       10.8         4.0         2.92    NE   \n",
       "3  422-8268        yes       11.2         7.0         3.02    RI   \n",
       "4  422-7728         no        9.7         5.0         2.62    NY   \n",
       "\n",
       "   Account Length  Area Code VMail Plan  VMail Message   ...    Day Calls  \\\n",
       "0              72        415         no            0.0   ...        103.0   \n",
       "1             124        415         no            0.0   ...        102.0   \n",
       "2              78        510        yes           32.0   ...        116.0   \n",
       "3             107        510         no            0.0   ...         83.0   \n",
       "4              64        408         no            0.0   ...        126.0   \n",
       "\n",
       "   Day Charge  Eve Mins  Eve Calls  Eve Charge  Night Mins  Night Calls  \\\n",
       "0       29.84     132.3      120.0       11.25       242.9         96.0   \n",
       "1       30.31     235.0      120.0       19.98       239.7        119.0   \n",
       "2       35.75     192.2       83.0       16.34       246.1         92.0   \n",
       "3       33.05     247.8       84.0       21.06       245.4         93.0   \n",
       "4       37.33     303.3      100.0       25.78       154.5         65.0   \n",
       "\n",
       "   Night Charge  CustServ Calls  Churn?  \n",
       "0         10.93               1  False.  \n",
       "1         10.79               3  False.  \n",
       "2         11.07               6  False.  \n",
       "3         11.04               2  False.  \n",
       "4          6.95               1  False.  \n",
       "\n",
       "[5 rows x 21 columns]"
      ]
     },
     "execution_count": 3,
     "metadata": {},
     "output_type": "execute_result"
    }
   ],
   "source": [
    "# We are combining the files based on the phone number of the  customer \n",
    "temp_data = int_billing.merge(local_billing, on = 'Phone', how = 'inner')\n",
    "churn_data = temp_data.merge(churn_target, on = 'Phone', how = 'inner')\n",
    "churn_data.head() "
   ]
  },
  {
   "cell_type": "markdown",
   "metadata": {},
   "source": [
    "### Exploratory Data Analysis (EDA) "
   ]
  },
  {
   "cell_type": "code",
   "execution_count": 5,
   "metadata": {},
   "outputs": [
    {
     "data": {
      "text/plain": [
       "3319"
      ]
     },
     "execution_count": 5,
     "metadata": {},
     "output_type": "execute_result"
    }
   ],
   "source": [
    "#length of data\n",
    "len(churn_data)"
   ]
  },
  {
   "cell_type": "code",
   "execution_count": 7,
   "metadata": {},
   "outputs": [
    {
     "data": {
      "text/plain": [
       "Phone              0\n",
       "Int'l Plan         0\n",
       "Intl Mins          4\n",
       "Intl Calls         4\n",
       "Intl Charge        0\n",
       "State              0\n",
       "Account Length     0\n",
       "Area Code          0\n",
       "VMail Plan         5\n",
       "VMail Message      6\n",
       "Day Mins          10\n",
       "Day Calls          5\n",
       "Day Charge         0\n",
       "Eve Mins           0\n",
       "Eve Calls          1\n",
       "Eve Charge        12\n",
       "Night Mins        12\n",
       "Night Calls        1\n",
       "Night Charge       5\n",
       "CustServ Calls     0\n",
       "Churn?             0\n",
       "dtype: int64"
      ]
     },
     "execution_count": 7,
     "metadata": {},
     "output_type": "execute_result"
    }
   ],
   "source": [
    "#finding missing values\n",
    "churn_data.isnull().sum()"
   ]
  },
  {
   "cell_type": "code",
   "execution_count": 8,
   "metadata": {},
   "outputs": [
    {
     "data": {
      "text/plain": [
       "Phone              object\n",
       "Int'l Plan         object\n",
       "Intl Mins         float64\n",
       "Intl Calls        float64\n",
       "Intl Charge       float64\n",
       "State              object\n",
       "Account Length      int64\n",
       "Area Code           int64\n",
       "VMail Plan         object\n",
       "VMail Message     float64\n",
       "Day Mins          float64\n",
       "Day Calls         float64\n",
       "Day Charge        float64\n",
       "Eve Mins          float64\n",
       "Eve Calls         float64\n",
       "Eve Charge        float64\n",
       "Night Mins        float64\n",
       "Night Calls       float64\n",
       "Night Charge      float64\n",
       "CustServ Calls      int64\n",
       "Churn?             object\n",
       "dtype: object"
      ]
     },
     "execution_count": 8,
     "metadata": {},
     "output_type": "execute_result"
    }
   ],
   "source": [
    "#data types of each column\n",
    "churn_data.dtypes"
   ]
  },
  {
   "cell_type": "code",
   "execution_count": 9,
   "metadata": {},
   "outputs": [
    {
     "data": {
      "text/html": [
       "<div>\n",
       "<style>\n",
       "    .dataframe thead tr:only-child th {\n",
       "        text-align: right;\n",
       "    }\n",
       "\n",
       "    .dataframe thead th {\n",
       "        text-align: left;\n",
       "    }\n",
       "\n",
       "    .dataframe tbody tr th {\n",
       "        vertical-align: top;\n",
       "    }\n",
       "</style>\n",
       "<table border=\"1\" class=\"dataframe\">\n",
       "  <thead>\n",
       "    <tr style=\"text-align: right;\">\n",
       "      <th></th>\n",
       "      <th>Intl Mins</th>\n",
       "      <th>Intl Calls</th>\n",
       "      <th>Intl Charge</th>\n",
       "      <th>Account Length</th>\n",
       "      <th>Area Code</th>\n",
       "      <th>VMail Message</th>\n",
       "      <th>Day Mins</th>\n",
       "      <th>Day Calls</th>\n",
       "      <th>Day Charge</th>\n",
       "      <th>Eve Mins</th>\n",
       "      <th>Eve Calls</th>\n",
       "      <th>Eve Charge</th>\n",
       "      <th>Night Mins</th>\n",
       "      <th>Night Calls</th>\n",
       "      <th>Night Charge</th>\n",
       "      <th>CustServ Calls</th>\n",
       "    </tr>\n",
       "  </thead>\n",
       "  <tbody>\n",
       "    <tr>\n",
       "      <th>count</th>\n",
       "      <td>3315.000000</td>\n",
       "      <td>3315.000000</td>\n",
       "      <td>3319.000000</td>\n",
       "      <td>3319.000000</td>\n",
       "      <td>3319.000000</td>\n",
       "      <td>3313.000000</td>\n",
       "      <td>3309.000000</td>\n",
       "      <td>3314.000000</td>\n",
       "      <td>3319.000000</td>\n",
       "      <td>3319.000000</td>\n",
       "      <td>3318.000000</td>\n",
       "      <td>3307.000000</td>\n",
       "      <td>3307.000000</td>\n",
       "      <td>3318.000000</td>\n",
       "      <td>3314.000000</td>\n",
       "      <td>3319.000000</td>\n",
       "    </tr>\n",
       "    <tr>\n",
       "      <th>mean</th>\n",
       "      <td>10.231825</td>\n",
       "      <td>4.483258</td>\n",
       "      <td>2.762760</td>\n",
       "      <td>101.088882</td>\n",
       "      <td>437.167822</td>\n",
       "      <td>8.091156</td>\n",
       "      <td>179.868480</td>\n",
       "      <td>100.435124</td>\n",
       "      <td>30.570931</td>\n",
       "      <td>200.900813</td>\n",
       "      <td>100.135322</td>\n",
       "      <td>17.074103</td>\n",
       "      <td>200.996311</td>\n",
       "      <td>100.084690</td>\n",
       "      <td>9.041759</td>\n",
       "      <td>1.563423</td>\n",
       "    </tr>\n",
       "    <tr>\n",
       "      <th>std</th>\n",
       "      <td>2.791812</td>\n",
       "      <td>2.462380</td>\n",
       "      <td>0.753577</td>\n",
       "      <td>39.858296</td>\n",
       "      <td>42.363910</td>\n",
       "      <td>13.681333</td>\n",
       "      <td>54.478986</td>\n",
       "      <td>20.077818</td>\n",
       "      <td>9.262502</td>\n",
       "      <td>50.696076</td>\n",
       "      <td>19.931237</td>\n",
       "      <td>4.309287</td>\n",
       "      <td>50.601556</td>\n",
       "      <td>19.572174</td>\n",
       "      <td>2.276451</td>\n",
       "      <td>1.317156</td>\n",
       "    </tr>\n",
       "    <tr>\n",
       "      <th>min</th>\n",
       "      <td>0.000000</td>\n",
       "      <td>0.000000</td>\n",
       "      <td>0.000000</td>\n",
       "      <td>1.000000</td>\n",
       "      <td>408.000000</td>\n",
       "      <td>0.000000</td>\n",
       "      <td>0.000000</td>\n",
       "      <td>0.000000</td>\n",
       "      <td>0.000000</td>\n",
       "      <td>0.000000</td>\n",
       "      <td>0.000000</td>\n",
       "      <td>0.000000</td>\n",
       "      <td>23.200000</td>\n",
       "      <td>33.000000</td>\n",
       "      <td>1.040000</td>\n",
       "      <td>0.000000</td>\n",
       "    </tr>\n",
       "    <tr>\n",
       "      <th>25%</th>\n",
       "      <td>8.500000</td>\n",
       "      <td>3.000000</td>\n",
       "      <td>2.300000</td>\n",
       "      <td>74.000000</td>\n",
       "      <td>408.000000</td>\n",
       "      <td>0.000000</td>\n",
       "      <td>143.700000</td>\n",
       "      <td>87.000000</td>\n",
       "      <td>24.430000</td>\n",
       "      <td>166.600000</td>\n",
       "      <td>87.000000</td>\n",
       "      <td>14.160000</td>\n",
       "      <td>167.150000</td>\n",
       "      <td>87.000000</td>\n",
       "      <td>7.520000</td>\n",
       "      <td>1.000000</td>\n",
       "    </tr>\n",
       "    <tr>\n",
       "      <th>50%</th>\n",
       "      <td>10.300000</td>\n",
       "      <td>4.000000</td>\n",
       "      <td>2.780000</td>\n",
       "      <td>101.000000</td>\n",
       "      <td>415.000000</td>\n",
       "      <td>0.000000</td>\n",
       "      <td>179.400000</td>\n",
       "      <td>101.000000</td>\n",
       "      <td>30.500000</td>\n",
       "      <td>201.200000</td>\n",
       "      <td>100.000000</td>\n",
       "      <td>17.090000</td>\n",
       "      <td>201.400000</td>\n",
       "      <td>100.000000</td>\n",
       "      <td>9.060000</td>\n",
       "      <td>1.000000</td>\n",
       "    </tr>\n",
       "    <tr>\n",
       "      <th>75%</th>\n",
       "      <td>12.100000</td>\n",
       "      <td>6.000000</td>\n",
       "      <td>3.270000</td>\n",
       "      <td>127.000000</td>\n",
       "      <td>510.000000</td>\n",
       "      <td>20.000000</td>\n",
       "      <td>216.700000</td>\n",
       "      <td>114.000000</td>\n",
       "      <td>36.820000</td>\n",
       "      <td>235.100000</td>\n",
       "      <td>114.000000</td>\n",
       "      <td>19.980000</td>\n",
       "      <td>235.400000</td>\n",
       "      <td>113.000000</td>\n",
       "      <td>10.590000</td>\n",
       "      <td>2.000000</td>\n",
       "    </tr>\n",
       "    <tr>\n",
       "      <th>max</th>\n",
       "      <td>20.000000</td>\n",
       "      <td>20.000000</td>\n",
       "      <td>5.400000</td>\n",
       "      <td>243.000000</td>\n",
       "      <td>510.000000</td>\n",
       "      <td>51.000000</td>\n",
       "      <td>350.800000</td>\n",
       "      <td>165.000000</td>\n",
       "      <td>59.640000</td>\n",
       "      <td>363.700000</td>\n",
       "      <td>170.000000</td>\n",
       "      <td>30.910000</td>\n",
       "      <td>395.000000</td>\n",
       "      <td>175.000000</td>\n",
       "      <td>17.770000</td>\n",
       "      <td>9.000000</td>\n",
       "    </tr>\n",
       "  </tbody>\n",
       "</table>\n",
       "</div>"
      ],
      "text/plain": [
       "         Intl Mins   Intl Calls  Intl Charge  Account Length    Area Code  \\\n",
       "count  3315.000000  3315.000000  3319.000000     3319.000000  3319.000000   \n",
       "mean     10.231825     4.483258     2.762760      101.088882   437.167822   \n",
       "std       2.791812     2.462380     0.753577       39.858296    42.363910   \n",
       "min       0.000000     0.000000     0.000000        1.000000   408.000000   \n",
       "25%       8.500000     3.000000     2.300000       74.000000   408.000000   \n",
       "50%      10.300000     4.000000     2.780000      101.000000   415.000000   \n",
       "75%      12.100000     6.000000     3.270000      127.000000   510.000000   \n",
       "max      20.000000    20.000000     5.400000      243.000000   510.000000   \n",
       "\n",
       "       VMail Message     Day Mins    Day Calls   Day Charge     Eve Mins  \\\n",
       "count    3313.000000  3309.000000  3314.000000  3319.000000  3319.000000   \n",
       "mean        8.091156   179.868480   100.435124    30.570931   200.900813   \n",
       "std        13.681333    54.478986    20.077818     9.262502    50.696076   \n",
       "min         0.000000     0.000000     0.000000     0.000000     0.000000   \n",
       "25%         0.000000   143.700000    87.000000    24.430000   166.600000   \n",
       "50%         0.000000   179.400000   101.000000    30.500000   201.200000   \n",
       "75%        20.000000   216.700000   114.000000    36.820000   235.100000   \n",
       "max        51.000000   350.800000   165.000000    59.640000   363.700000   \n",
       "\n",
       "         Eve Calls   Eve Charge   Night Mins  Night Calls  Night Charge  \\\n",
       "count  3318.000000  3307.000000  3307.000000  3318.000000   3314.000000   \n",
       "mean    100.135322    17.074103   200.996311   100.084690      9.041759   \n",
       "std      19.931237     4.309287    50.601556    19.572174      2.276451   \n",
       "min       0.000000     0.000000    23.200000    33.000000      1.040000   \n",
       "25%      87.000000    14.160000   167.150000    87.000000      7.520000   \n",
       "50%     100.000000    17.090000   201.400000   100.000000      9.060000   \n",
       "75%     114.000000    19.980000   235.400000   113.000000     10.590000   \n",
       "max     170.000000    30.910000   395.000000   175.000000     17.770000   \n",
       "\n",
       "       CustServ Calls  \n",
       "count     3319.000000  \n",
       "mean         1.563423  \n",
       "std          1.317156  \n",
       "min          0.000000  \n",
       "25%          1.000000  \n",
       "50%          1.000000  \n",
       "75%          2.000000  \n",
       "max          9.000000  "
      ]
     },
     "execution_count": 9,
     "metadata": {},
     "output_type": "execute_result"
    }
   ],
   "source": [
    "#Data statistics\n",
    "churn_data.describe()"
   ]
  },
  {
   "cell_type": "code",
   "execution_count": 10,
   "metadata": {},
   "outputs": [
    {
     "data": {
      "text/plain": [
       "State\n",
       "AK     52\n",
       "AL     80\n",
       "AR     55\n",
       "AZ     63\n",
       "CA     34\n",
       "CO     66\n",
       "CT     74\n",
       "DC     54\n",
       "DE     60\n",
       "FL     62\n",
       "GA     53\n",
       "HI     52\n",
       "IA     44\n",
       "ID     73\n",
       "IL     58\n",
       "IN     71\n",
       "KS     69\n",
       "KY     59\n",
       "LA     51\n",
       "MA     65\n",
       "MD     70\n",
       "ME     62\n",
       "MI     73\n",
       "MN     84\n",
       "MO     63\n",
       "MS     65\n",
       "MT     68\n",
       "NC     68\n",
       "ND     61\n",
       "NE     61\n",
       "NH     56\n",
       "NJ     68\n",
       "NM     62\n",
       "NV     65\n",
       "NY     83\n",
       "OH     78\n",
       "OK     61\n",
       "OR     77\n",
       "PA     45\n",
       "RI     64\n",
       "SC     60\n",
       "SD     60\n",
       "TN     52\n",
       "TX     72\n",
       "UT     72\n",
       "VA     75\n",
       "VT     73\n",
       "WA     66\n",
       "WI     77\n",
       "WV    106\n",
       "WY     77\n",
       "Name: Phone, dtype: int64"
      ]
     },
     "execution_count": 10,
     "metadata": {},
     "output_type": "execute_result"
    }
   ],
   "source": [
    "#Count number of phones in each state\n",
    "churn_data.groupby('State')['Phone'].count() "
   ]
  },
  {
   "cell_type": "code",
   "execution_count": 11,
   "metadata": {},
   "outputs": [
    {
     "data": {
      "text/plain": [
       "State\n",
       "AK    10.019231\n",
       "AL    10.292500\n",
       "AR    10.372727\n",
       "AZ    10.666667\n",
       "CA     9.867647\n",
       "CO     9.871212\n",
       "CT    10.050000\n",
       "DC    10.605556\n",
       "DE    10.276667\n",
       "FL    10.027419\n",
       "GA    10.194340\n",
       "HI    10.035294\n",
       "IA     9.672727\n",
       "ID    10.501370\n",
       "IL    10.334483\n",
       "IN     9.997183\n",
       "KS    10.813043\n",
       "KY    10.654237\n",
       "LA     9.331373\n",
       "MA     9.869231\n",
       "MD    10.901429\n",
       "ME     9.993548\n",
       "MI    10.582192\n",
       "MN    10.449398\n",
       "MO    10.111111\n",
       "MS    10.684615\n",
       "MT    10.619118\n",
       "NC     9.958824\n",
       "ND     9.626230\n",
       "NE    10.449180\n",
       "NH    10.121429\n",
       "NJ    10.808824\n",
       "NM    10.341935\n",
       "NV    10.066154\n",
       "NY     9.985542\n",
       "OH    10.297436\n",
       "OK    10.470492\n",
       "OR    10.279221\n",
       "PA    10.491111\n",
       "RI     9.798438\n",
       "SC     9.913333\n",
       "SD    10.047458\n",
       "TN    10.286538\n",
       "TX    10.558333\n",
       "UT    10.231944\n",
       "VA    10.558667\n",
       "VT    10.152055\n",
       "WA     9.789394\n",
       "WI     9.754545\n",
       "WV    10.074286\n",
       "WY    10.393506\n",
       "Name: Intl Mins, dtype: float64"
      ]
     },
     "execution_count": 11,
     "metadata": {},
     "output_type": "execute_result"
    }
   ],
   "source": [
    "#Finding the average international calling in minutes for each state\n",
    "churn_data.groupby('State')['Intl Mins'].mean() "
   ]
  },
  {
   "cell_type": "code",
   "execution_count": 12,
   "metadata": {},
   "outputs": [
    {
     "data": {
      "text/plain": [
       "State\n",
       "AK    178.384615\n",
       "AL    186.010000\n",
       "AR    176.116364\n",
       "AZ    169.596721\n",
       "CA    183.564706\n",
       "CO    178.712121\n",
       "CT    175.140541\n",
       "DC    171.379630\n",
       "DE    175.449153\n",
       "FL    179.503226\n",
       "GA    184.798113\n",
       "HI    175.744231\n",
       "IA    177.613636\n",
       "ID    178.619178\n",
       "IL    173.591379\n",
       "IN    196.525352\n",
       "KS    192.659420\n",
       "KY    173.754237\n",
       "LA    178.376471\n",
       "MA    180.103077\n",
       "MD    197.228571\n",
       "ME    185.795082\n",
       "MI    181.297222\n",
       "MN    183.354762\n",
       "MO    170.506349\n",
       "MS    177.929231\n",
       "MT    175.414706\n",
       "NC    186.222727\n",
       "ND    186.777049\n",
       "NE    177.465574\n",
       "NH    177.328571\n",
       "NJ    196.592537\n",
       "NM    171.363934\n",
       "NV    174.963077\n",
       "NY    175.114458\n",
       "OH    183.274359\n",
       "OK    179.909836\n",
       "OR    177.090909\n",
       "PA    188.375556\n",
       "RI    167.421875\n",
       "SC    164.754237\n",
       "SD    189.690000\n",
       "TN    175.844231\n",
       "TX    181.516667\n",
       "UT    183.569444\n",
       "VA    178.909333\n",
       "VT    182.031507\n",
       "WA    178.742424\n",
       "WI    179.992208\n",
       "WV    173.950943\n",
       "WY    180.170130\n",
       "Name: Day Mins, dtype: float64"
      ]
     },
     "execution_count": 12,
     "metadata": {},
     "output_type": "execute_result"
    }
   ],
   "source": [
    "#Finding the average Day calling minutes for each state\n",
    "churn_data.groupby('State')['Day Mins'].mean()"
   ]
  },
  {
   "cell_type": "code",
   "execution_count": 13,
   "metadata": {},
   "outputs": [
    {
     "data": {
      "text/plain": [
       "State\n",
       "AK    184.282692\n",
       "AL    195.462500\n",
       "AR    201.047273\n",
       "AZ    188.674603\n",
       "CA    198.970588\n",
       "CO    206.884848\n",
       "CT    203.828378\n",
       "DC    196.272222\n",
       "DE    207.230000\n",
       "FL    210.962903\n",
       "GA    203.098113\n",
       "HI    190.413462\n",
       "IA    206.400000\n",
       "ID    194.610959\n",
       "IL    196.798276\n",
       "IN    202.559155\n",
       "KS    201.642029\n",
       "KY    196.244068\n",
       "LA    197.819608\n",
       "MA    214.664615\n",
       "MD    196.061429\n",
       "ME    200.514516\n",
       "MI    208.172603\n",
       "MN    199.334524\n",
       "MO    200.141270\n",
       "MS    200.009231\n",
       "MT    201.526471\n",
       "NC    202.536765\n",
       "ND    208.606557\n",
       "NE    203.111475\n",
       "NH    198.158929\n",
       "NJ    198.289706\n",
       "NM    212.193548\n",
       "NV    202.138462\n",
       "NY    196.993976\n",
       "OH    206.441026\n",
       "OK    193.018033\n",
       "OR    202.527273\n",
       "PA    191.653333\n",
       "RI    210.317187\n",
       "SC    207.456667\n",
       "SD    202.723333\n",
       "TN    209.246154\n",
       "TX    199.787500\n",
       "UT    195.343056\n",
       "VA    203.468000\n",
       "VT    205.368493\n",
       "WA    203.810606\n",
       "WI    197.181818\n",
       "WV    188.413208\n",
       "WY    205.828571\n",
       "Name: Eve Mins, dtype: float64"
      ]
     },
     "execution_count": 13,
     "metadata": {},
     "output_type": "execute_result"
    }
   ],
   "source": [
    "##Finding the average evening calling in minutes for each state\n",
    "churn_data.groupby('State')['Eve Mins'].mean() "
   ]
  },
  {
   "cell_type": "code",
   "execution_count": 14,
   "metadata": {},
   "outputs": [
    {
     "data": {
      "text/plain": [
       "State\n",
       "AK    192.326923\n",
       "AL    187.751899\n",
       "AR    205.454545\n",
       "AZ    194.434921\n",
       "CA    198.508824\n",
       "CO    189.898485\n",
       "CT    205.997297\n",
       "DC    206.348148\n",
       "DE    204.650000\n",
       "FL    197.495082\n",
       "GA    194.860377\n",
       "HI    204.409615\n",
       "IA    192.276744\n",
       "ID    202.595890\n",
       "IL    197.605172\n",
       "IN    209.987143\n",
       "KS    203.365217\n",
       "KY    198.355932\n",
       "LA    201.396078\n",
       "MA    204.007692\n",
       "MD    198.614286\n",
       "ME    198.833871\n",
       "MI    192.275000\n",
       "MN    209.680952\n",
       "MO    209.146032\n",
       "MS    200.996923\n",
       "MT    196.440909\n",
       "NC    197.144118\n",
       "ND    198.228333\n",
       "NE    207.818333\n",
       "NH    208.614286\n",
       "NJ    207.311940\n",
       "NM    200.193548\n",
       "NV    209.310769\n",
       "NY    203.268675\n",
       "OH    204.491026\n",
       "OK    196.947541\n",
       "OR    200.174026\n",
       "PA    195.864444\n",
       "RI    205.809375\n",
       "SC    195.136667\n",
       "SD    201.310000\n",
       "TN    211.686275\n",
       "TX    195.288889\n",
       "UT    190.519444\n",
       "VA    212.836000\n",
       "VT    206.989041\n",
       "WA    200.045455\n",
       "WI    198.697403\n",
       "WV    201.055660\n",
       "WY    199.214474\n",
       "Name: Night Mins, dtype: float64"
      ]
     },
     "execution_count": 14,
     "metadata": {},
     "output_type": "execute_result"
    }
   ],
   "source": [
    "##Finding the average Night calling in minutes for each state\n",
    "churn_data.groupby('State')['Night Mins'].mean()"
   ]
  },
  {
   "cell_type": "code",
   "execution_count": 15,
   "metadata": {},
   "outputs": [
    {
     "data": {
      "text/plain": [
       "Churn?\n",
       "False.    2838\n",
       "True.      481\n",
       "dtype: int64"
      ]
     },
     "execution_count": 15,
     "metadata": {},
     "output_type": "execute_result"
    }
   ],
   "source": [
    "#Counting the number of churned and not churned customers.\n",
    "churn_data.groupby('Churn?').size()"
   ]
  },
  {
   "cell_type": "code",
   "execution_count": null,
   "metadata": {
    "collapsed": true
   },
   "outputs": [],
   "source": [
    "# Pattern observed \n",
    "# The average evening and night calling minute are mostly greater than the day calling minutes in each state.\n",
    "# You will clearly observe this pattern in the below bar chart"
   ]
  },
  {
   "cell_type": "code",
   "execution_count": 16,
   "metadata": {},
   "outputs": [
    {
     "data": {
      "image/png": "[encoded data removed]",
      "text/plain": [
       "<Figure size 2160x720 with 1 Axes>"
      ]
     },
     "metadata": {},
     "output_type": "display_data"
    }
   ],
   "source": [
    "# Bar chart of Day Mins of in each state \n",
    "plt.figure(figsize=(30,10))\n",
    "plt.bar(churn_data['State'], churn_data['Day Mins'])\n",
    "plt.xlabel('State', fontsize =25)\n",
    "plt.ylabel('No of day mins', fontsize=25)\n",
    "#plt.xticks(churn_data['State'], fontsize=15, rotation=30)\n",
    "plt.title('Day Mins of each state', fontsize = (25))\n",
    "plt.show()\n",
    "\n"
   ]
  },
  {
   "cell_type": "code",
   "execution_count": 22,
   "metadata": {},
   "outputs": [
    {
     "data": {
      "image/png": "[encoded data removed]",
      "text/plain": [
       "<Figure size 2160x720 with 1 Axes>"
      ]
     },
     "metadata": {},
     "output_type": "display_data"
    }
   ],
   "source": [
    "# Bar chart of Evening Mins of in each state \n",
    "plt.figure(figsize = (30,10))\n",
    "plt.bar(churn_data['State'], churn_data['Eve Mins'])\n",
    "plt.xlabel('State', fontsize = (25))\n",
    "plt.ylabel('No of Evening Mins', fontsize = (25))\n",
    "plt.title('Evening Mins of each state', fontsize = (25))\n",
    "plt.show()"
   ]
  },
  {
   "cell_type": "code",
   "execution_count": 23,
   "metadata": {},
   "outputs": [
    {
     "data": {
      "image/png": "[encoded data removed]",
      "text/plain": [
       "<Figure size 2160x720 with 1 Axes>"
      ]
     },
     "metadata": {},
     "output_type": "display_data"
    }
   ],
   "source": [
    "# Bar chart of Night Mins of in each state \n",
    "plt.figure(figsize = (30,10))\n",
    "plt.bar(churn_data['State'], churn_data['Night Mins'])\n",
    "plt.xlabel('State', fontsize = (25))\n",
    "plt.ylabel('No of Night Mins', fontsize = (25))\n",
    "plt.title('Night Mins of each state', fontsize = (25))\n",
    "plt.show()"
   ]
  },
  {
   "cell_type": "code",
   "execution_count": 24,
   "metadata": {},
   "outputs": [
    {
     "data": {
      "image/png": "[encoded data removed]",
      "text/plain": [
       "<Figure size 2160x720 with 1 Axes>"
      ]
     },
     "metadata": {},
     "output_type": "display_data"
    }
   ],
   "source": [
    "# Bar chart of International Mins of in each state \n",
    "plt.figure(figsize = (30,10))\n",
    "plt.bar(churn_data['State'], churn_data['Intl Mins'])\n",
    "plt.xlabel('State', fontsize = (25))\n",
    "plt.ylabel('No of International Mins', fontsize = (25))\n",
    "plt.title('International Mins of each state', fontsize = (25))\n",
    "plt.show()"
   ]
  },
  {
   "cell_type": "code",
   "execution_count": 25,
   "metadata": {},
   "outputs": [
    {
     "data": {
      "image/png": "[encoded data removed]",
      "text/plain": [
       "<Figure size 2160x720 with 1 Axes>"
      ]
     },
     "metadata": {},
     "output_type": "display_data"
    }
   ],
   "source": [
    "# No of local International calls in each state\n",
    "plt.figure(figsize = (30,10))\n",
    "plt.bar(churn_data['State'], churn_data['Intl Calls'])\n",
    "plt.xlabel('State', fontsize = (25))\n",
    "plt.ylabel('No of international Calls', fontsize = (25))\n",
    "plt.title('International Calls of each state', fontsize = (25))\n",
    "plt.show()"
   ]
  },
  {
   "cell_type": "code",
   "execution_count": 26,
   "metadata": {},
   "outputs": [
    {
     "data": {
      "image/png": "[encoded data removed]",
      "text/plain": [
       "<Figure size 432x288 with 1 Axes>"
      ]
     },
     "metadata": {},
     "output_type": "display_data"
    }
   ],
   "source": [
    "churn_data['Account Length'].hist(bins=100)\n",
    "plt.show()"
   ]
  },
  {
   "cell_type": "code",
   "execution_count": null,
   "metadata": {
    "collapsed": true
   },
   "outputs": [],
   "source": [
    "#Converting the data to numerical values \n"
   ]
  },
  {
   "cell_type": "markdown",
   "metadata": {},
   "source": [
    "### Data Pre-processing"
   ]
  },
  {
   "cell_type": "code",
   "execution_count": 4,
   "metadata": {},
   "outputs": [
    {
     "data": {
      "text/plain": [
       "Phone              0\n",
       "Int'l Plan         0\n",
       "Intl Mins          4\n",
       "Intl Calls         4\n",
       "Intl Charge        0\n",
       "State              0\n",
       "Account Length     0\n",
       "Area Code          0\n",
       "VMail Plan         5\n",
       "VMail Message      6\n",
       "Day Mins          10\n",
       "Day Calls          5\n",
       "Day Charge         0\n",
       "Eve Mins           0\n",
       "Eve Calls          1\n",
       "Eve Charge        12\n",
       "Night Mins        12\n",
       "Night Calls        1\n",
       "Night Charge       5\n",
       "CustServ Calls     0\n",
       "Churn?             0\n",
       "dtype: int64"
      ]
     },
     "execution_count": 4,
     "metadata": {},
     "output_type": "execute_result"
    }
   ],
   "source": [
    "#Finding missing values \n",
    "churn_data.isnull().sum()"
   ]
  },
  {
   "cell_type": "code",
   "execution_count": 5,
   "metadata": {
    "collapsed": true
   },
   "outputs": [],
   "source": [
    "# Replacing null values by zeros\n",
    "churn_data.fillna(0, inplace = True) "
   ]
  },
  {
   "cell_type": "code",
   "execution_count": 6,
   "metadata": {},
   "outputs": [
    {
     "data": {
      "text/plain": [
       "Phone             0\n",
       "Int'l Plan        0\n",
       "Intl Mins         0\n",
       "Intl Calls        0\n",
       "Intl Charge       0\n",
       "State             0\n",
       "Account Length    0\n",
       "Area Code         0\n",
       "VMail Plan        0\n",
       "VMail Message     0\n",
       "Day Mins          0\n",
       "Day Calls         0\n",
       "Day Charge        0\n",
       "Eve Mins          0\n",
       "Eve Calls         0\n",
       "Eve Charge        0\n",
       "Night Mins        0\n",
       "Night Calls       0\n",
       "Night Charge      0\n",
       "CustServ Calls    0\n",
       "Churn?            0\n",
       "dtype: int64"
      ]
     },
     "execution_count": 6,
     "metadata": {},
     "output_type": "execute_result"
    }
   ],
   "source": [
    "#Now check data for null values \n",
    "churn_data.isnull().sum()"
   ]
  },
  {
   "cell_type": "markdown",
   "metadata": {
    "collapsed": true
   },
   "source": [
    "##### Converting data to entire numerical values"
   ]
  },
  {
   "cell_type": "code",
   "execution_count": 7,
   "metadata": {
    "collapsed": true
   },
   "outputs": [],
   "source": [
    "churn_data[\"Churn?\"].replace(['False.', 'True.'], [0, 1], inplace=True)"
   ]
  },
  {
   "cell_type": "code",
   "execution_count": 8,
   "metadata": {
    "collapsed": true
   },
   "outputs": [],
   "source": [
    "churn_data['VMail Plan'].replace(['no', 'yes'], [0, 1], inplace = True)"
   ]
  },
  {
   "cell_type": "code",
   "execution_count": 9,
   "metadata": {
    "collapsed": true
   },
   "outputs": [],
   "source": [
    "churn_data[\"Int'l Plan\"].replace(['no', 'yes'], [0, 1], inplace = True)"
   ]
  },
  {
   "cell_type": "code",
   "execution_count": 10,
   "metadata": {
    "collapsed": true
   },
   "outputs": [],
   "source": [
    "#Removing the 'Phone' feature\n",
    "churn_data = churn_data.drop('Phone',1)"
   ]
  },
  {
   "cell_type": "code",
   "execution_count": 11,
   "metadata": {
    "collapsed": true
   },
   "outputs": [],
   "source": [
    "churn_data = churn_data.drop('State',1)"
   ]
  },
  {
   "cell_type": "code",
   "execution_count": 12,
   "metadata": {
    "collapsed": true
   },
   "outputs": [],
   "source": [
    "churn_data = churn_data.drop('Area Code',1)"
   ]
  },
  {
   "cell_type": "code",
   "execution_count": 13,
   "metadata": {},
   "outputs": [
    {
     "data": {
      "text/html": [
       "<div>\n",
       "<style>\n",
       "    .dataframe thead tr:only-child th {\n",
       "        text-align: right;\n",
       "    }\n",
       "\n",
       "    .dataframe thead th {\n",
       "        text-align: left;\n",
       "    }\n",
       "\n",
       "    .dataframe tbody tr th {\n",
       "        vertical-align: top;\n",
       "    }\n",
       "</style>\n",
       "<table border=\"1\" class=\"dataframe\">\n",
       "  <thead>\n",
       "    <tr style=\"text-align: right;\">\n",
       "      <th></th>\n",
       "      <th>Int'l Plan</th>\n",
       "      <th>Intl Mins</th>\n",
       "      <th>Intl Calls</th>\n",
       "      <th>Intl Charge</th>\n",
       "      <th>Account Length</th>\n",
       "      <th>VMail Plan</th>\n",
       "      <th>VMail Message</th>\n",
       "      <th>Day Mins</th>\n",
       "      <th>Day Calls</th>\n",
       "      <th>Day Charge</th>\n",
       "      <th>Eve Mins</th>\n",
       "      <th>Eve Calls</th>\n",
       "      <th>Eve Charge</th>\n",
       "      <th>Night Mins</th>\n",
       "      <th>Night Calls</th>\n",
       "      <th>Night Charge</th>\n",
       "      <th>CustServ Calls</th>\n",
       "      <th>Churn?</th>\n",
       "    </tr>\n",
       "  </thead>\n",
       "  <tbody>\n",
       "    <tr>\n",
       "      <th>0</th>\n",
       "      <td>0</td>\n",
       "      <td>11.8</td>\n",
       "      <td>3.0</td>\n",
       "      <td>3.19</td>\n",
       "      <td>72</td>\n",
       "      <td>0</td>\n",
       "      <td>0.0</td>\n",
       "      <td>175.5</td>\n",
       "      <td>103.0</td>\n",
       "      <td>29.84</td>\n",
       "      <td>132.3</td>\n",
       "      <td>120.0</td>\n",
       "      <td>11.25</td>\n",
       "      <td>242.9</td>\n",
       "      <td>96.0</td>\n",
       "      <td>10.93</td>\n",
       "      <td>1</td>\n",
       "      <td>0</td>\n",
       "    </tr>\n",
       "    <tr>\n",
       "      <th>1</th>\n",
       "      <td>0</td>\n",
       "      <td>10.9</td>\n",
       "      <td>1.0</td>\n",
       "      <td>2.94</td>\n",
       "      <td>124</td>\n",
       "      <td>0</td>\n",
       "      <td>0.0</td>\n",
       "      <td>178.3</td>\n",
       "      <td>102.0</td>\n",
       "      <td>30.31</td>\n",
       "      <td>235.0</td>\n",
       "      <td>120.0</td>\n",
       "      <td>19.98</td>\n",
       "      <td>239.7</td>\n",
       "      <td>119.0</td>\n",
       "      <td>10.79</td>\n",
       "      <td>3</td>\n",
       "      <td>0</td>\n",
       "    </tr>\n",
       "    <tr>\n",
       "      <th>2</th>\n",
       "      <td>0</td>\n",
       "      <td>10.8</td>\n",
       "      <td>4.0</td>\n",
       "      <td>2.92</td>\n",
       "      <td>78</td>\n",
       "      <td>1</td>\n",
       "      <td>32.0</td>\n",
       "      <td>210.3</td>\n",
       "      <td>116.0</td>\n",
       "      <td>35.75</td>\n",
       "      <td>192.2</td>\n",
       "      <td>83.0</td>\n",
       "      <td>16.34</td>\n",
       "      <td>246.1</td>\n",
       "      <td>92.0</td>\n",
       "      <td>11.07</td>\n",
       "      <td>6</td>\n",
       "      <td>0</td>\n",
       "    </tr>\n",
       "    <tr>\n",
       "      <th>3</th>\n",
       "      <td>1</td>\n",
       "      <td>11.2</td>\n",
       "      <td>7.0</td>\n",
       "      <td>3.02</td>\n",
       "      <td>107</td>\n",
       "      <td>0</td>\n",
       "      <td>0.0</td>\n",
       "      <td>194.4</td>\n",
       "      <td>83.0</td>\n",
       "      <td>33.05</td>\n",
       "      <td>247.8</td>\n",
       "      <td>84.0</td>\n",
       "      <td>21.06</td>\n",
       "      <td>245.4</td>\n",
       "      <td>93.0</td>\n",
       "      <td>11.04</td>\n",
       "      <td>2</td>\n",
       "      <td>0</td>\n",
       "    </tr>\n",
       "    <tr>\n",
       "      <th>4</th>\n",
       "      <td>0</td>\n",
       "      <td>9.7</td>\n",
       "      <td>5.0</td>\n",
       "      <td>2.62</td>\n",
       "      <td>64</td>\n",
       "      <td>0</td>\n",
       "      <td>0.0</td>\n",
       "      <td>219.6</td>\n",
       "      <td>126.0</td>\n",
       "      <td>37.33</td>\n",
       "      <td>303.3</td>\n",
       "      <td>100.0</td>\n",
       "      <td>25.78</td>\n",
       "      <td>154.5</td>\n",
       "      <td>65.0</td>\n",
       "      <td>6.95</td>\n",
       "      <td>1</td>\n",
       "      <td>0</td>\n",
       "    </tr>\n",
       "  </tbody>\n",
       "</table>\n",
       "</div>"
      ],
      "text/plain": [
       "   Int'l Plan  Intl Mins  Intl Calls  Intl Charge  Account Length  VMail Plan  \\\n",
       "0           0       11.8         3.0         3.19              72           0   \n",
       "1           0       10.9         1.0         2.94             124           0   \n",
       "2           0       10.8         4.0         2.92              78           1   \n",
       "3           1       11.2         7.0         3.02             107           0   \n",
       "4           0        9.7         5.0         2.62              64           0   \n",
       "\n",
       "   VMail Message  Day Mins  Day Calls  Day Charge  Eve Mins  Eve Calls  \\\n",
       "0            0.0     175.5      103.0       29.84     132.3      120.0   \n",
       "1            0.0     178.3      102.0       30.31     235.0      120.0   \n",
       "2           32.0     210.3      116.0       35.75     192.2       83.0   \n",
       "3            0.0     194.4       83.0       33.05     247.8       84.0   \n",
       "4            0.0     219.6      126.0       37.33     303.3      100.0   \n",
       "\n",
       "   Eve Charge  Night Mins  Night Calls  Night Charge  CustServ Calls  Churn?  \n",
       "0       11.25       242.9         96.0         10.93               1       0  \n",
       "1       19.98       239.7        119.0         10.79               3       0  \n",
       "2       16.34       246.1         92.0         11.07               6       0  \n",
       "3       21.06       245.4         93.0         11.04               2       0  \n",
       "4       25.78       154.5         65.0          6.95               1       0  "
      ]
     },
     "execution_count": 13,
     "metadata": {},
     "output_type": "execute_result"
    }
   ],
   "source": [
    "churn_data.head()"
   ]
  },
  {
   "cell_type": "markdown",
   "metadata": {},
   "source": [
    "##### Detecting and remving outliers"
   ]
  },
  {
   "cell_type": "code",
   "execution_count": 14,
   "metadata": {},
   "outputs": [
    {
     "name": "stdout",
     "output_type": "stream",
     "text": [
      "      Int'l Plan  Intl Mins  Intl Calls  Intl Charge  Account Length  \\\n",
      "0          False      False       False        False           False   \n",
      "1          False      False       False        False           False   \n",
      "2          False      False       False        False           False   \n",
      "3          False      False       False        False           False   \n",
      "4          False      False       False        False           False   \n",
      "5          False      False       False        False           False   \n",
      "6          False      False       False        False           False   \n",
      "7          False      False       False        False           False   \n",
      "8          False      False       False        False           False   \n",
      "9          False      False       False        False           False   \n",
      "10         False      False       False        False           False   \n",
      "11         False      False       False        False           False   \n",
      "12         False      False       False        False           False   \n",
      "13         False      False       False        False           False   \n",
      "14         False      False       False        False           False   \n",
      "15         False      False       False        False           False   \n",
      "16         False      False       False        False           False   \n",
      "17         False      False       False        False           False   \n",
      "18         False      False       False        False           False   \n",
      "19         False      False       False        False           False   \n",
      "20         False      False       False        False           False   \n",
      "21         False      False       False        False           False   \n",
      "22         False      False       False        False           False   \n",
      "23         False      False       False        False           False   \n",
      "24         False      False       False        False           False   \n",
      "25         False      False       False        False           False   \n",
      "26         False      False       False        False           False   \n",
      "27         False      False       False        False           False   \n",
      "28         False      False       False        False           False   \n",
      "29         False      False       False        False           False   \n",
      "...          ...        ...         ...          ...             ...   \n",
      "3289       False      False       False        False           False   \n",
      "3290       False      False       False        False           False   \n",
      "3291       False      False       False        False           False   \n",
      "3292       False      False       False        False           False   \n",
      "3293       False      False       False        False           False   \n",
      "3294       False      False       False        False           False   \n",
      "3295       False      False       False        False           False   \n",
      "3296       False      False       False        False           False   \n",
      "3297       False      False       False        False           False   \n",
      "3298       False      False       False        False           False   \n",
      "3299       False      False       False        False           False   \n",
      "3300       False      False       False        False           False   \n",
      "3301       False      False       False        False           False   \n",
      "3302       False      False       False        False           False   \n",
      "3303       False      False       False        False           False   \n",
      "3304       False      False       False        False           False   \n",
      "3305       False      False       False        False           False   \n",
      "3306       False      False       False        False           False   \n",
      "3307       False      False       False        False           False   \n",
      "3308       False      False       False        False           False   \n",
      "3309       False      False       False        False           False   \n",
      "3310       False      False       False        False           False   \n",
      "3311       False      False       False        False           False   \n",
      "3312       False      False       False        False           False   \n",
      "3313       False      False       False        False           False   \n",
      "3314       False      False       False        False           False   \n",
      "3315       False      False       False        False           False   \n",
      "3316       False      False       False        False           False   \n",
      "3317       False      False       False        False           False   \n",
      "3318       False      False       False        False           False   \n",
      "\n",
      "      VMail Plan  VMail Message  Day Mins  Day Calls  Day Charge  Eve Mins  \\\n",
      "0          False          False     False      False       False     False   \n",
      "1          False          False     False      False       False     False   \n",
      "2          False          False     False      False       False     False   \n",
      "3          False          False     False      False       False     False   \n",
      "4          False          False     False      False       False      True   \n",
      "5          False          False     False      False       False     False   \n",
      "6          False          False     False      False       False     False   \n",
      "7          False          False     False      False       False     False   \n",
      "8          False          False     False      False       False     False   \n",
      "9          False          False     False      False       False      True   \n",
      "10         False          False     False      False       False     False   \n",
      "11         False          False     False      False       False      True   \n",
      "12         False          False     False      False       False     False   \n",
      "13         False          False     False      False       False     False   \n",
      "14         False          False     False      False       False     False   \n",
      "15         False          False     False      False       False      True   \n",
      "16         False          False     False      False       False     False   \n",
      "17         False          False     False      False       False      True   \n",
      "18         False          False     False      False       False     False   \n",
      "19         False          False     False      False       False     False   \n",
      "20         False          False     False      False       False     False   \n",
      "21         False          False      True      False       False     False   \n",
      "22         False          False     False      False       False     False   \n",
      "23         False          False     False      False       False     False   \n",
      "24         False          False     False      False       False     False   \n",
      "25         False          False     False      False       False     False   \n",
      "26         False          False     False      False       False     False   \n",
      "27         False          False     False      False       False     False   \n",
      "28         False          False     False      False       False     False   \n",
      "29         False          False     False      False       False     False   \n",
      "...          ...            ...       ...        ...         ...       ...   \n",
      "3289       False          False     False      False       False     False   \n",
      "3290       False          False     False      False       False     False   \n",
      "3291       False          False     False      False       False      True   \n",
      "3292       False          False     False      False       False     False   \n",
      "3293       False          False     False      False       False     False   \n",
      "3294       False          False     False      False       False     False   \n",
      "3295       False          False     False      False       False     False   \n",
      "3296       False          False     False      False       False     False   \n",
      "3297       False          False     False      False       False     False   \n",
      "3298       False          False     False      False       False     False   \n",
      "3299       False          False     False      False       False     False   \n",
      "3300       False          False     False      False       False     False   \n",
      "3301       False          False     False      False       False     False   \n",
      "3302       False          False     False      False       False     False   \n",
      "3303       False          False     False      False       False     False   \n",
      "3304       False          False     False      False       False      True   \n",
      "3305       False          False     False      False       False     False   \n",
      "3306       False          False     False      False       False     False   \n",
      "3307       False          False     False      False       False     False   \n",
      "3308       False          False     False      False       False     False   \n",
      "3309       False          False     False      False       False     False   \n",
      "3310       False          False     False      False       False     False   \n",
      "3311       False          False     False      False       False     False   \n",
      "3312       False          False     False      False       False     False   \n",
      "3313       False          False     False      False       False     False   \n",
      "3314       False          False     False      False       False     False   \n",
      "3315       False          False     False      False       False     False   \n",
      "3316       False          False     False      False       False     False   \n",
      "3317       False          False     False      False       False     False   \n",
      "3318       False          False     False      False       False     False   \n",
      "\n",
      "      Eve Calls  Eve Charge  Night Mins  Night Calls  Night Charge  \\\n",
      "0         False       False       False        False         False   \n",
      "1         False       False       False        False         False   \n",
      "2         False       False       False        False         False   \n",
      "3         False       False       False        False         False   \n",
      "4         False       False       False        False         False   \n",
      "5         False       False       False        False         False   \n",
      "6         False       False       False        False         False   \n",
      "7         False       False       False        False         False   \n",
      "8         False       False       False        False         False   \n",
      "9         False       False       False        False         False   \n",
      "10        False       False       False        False         False   \n",
      "11        False       False       False        False         False   \n",
      "12        False       False       False        False         False   \n",
      "13        False       False        True        False         False   \n",
      "14        False       False       False        False         False   \n",
      "15        False       False       False        False         False   \n",
      "16        False       False       False        False         False   \n",
      "17        False       False       False        False         False   \n",
      "18        False       False       False        False         False   \n",
      "19        False       False        True        False         False   \n",
      "20        False       False       False        False         False   \n",
      "21        False       False       False        False         False   \n",
      "22        False       False       False        False         False   \n",
      "23        False       False        True        False         False   \n",
      "24        False       False        True        False         False   \n",
      "25        False       False       False        False         False   \n",
      "26        False       False       False        False         False   \n",
      "27        False       False       False        False         False   \n",
      "28        False       False       False        False         False   \n",
      "29        False       False       False        False         False   \n",
      "...         ...         ...         ...          ...           ...   \n",
      "3289      False       False       False        False         False   \n",
      "3290      False       False       False        False         False   \n",
      "3291      False       False       False        False         False   \n",
      "3292      False       False       False        False         False   \n",
      "3293      False       False       False        False         False   \n",
      "3294      False       False       False        False         False   \n",
      "3295      False       False       False        False         False   \n",
      "3296      False       False       False        False         False   \n",
      "3297      False       False       False        False         False   \n",
      "3298      False       False       False        False         False   \n",
      "3299      False       False       False        False         False   \n",
      "3300      False       False       False        False         False   \n",
      "3301      False       False       False        False         False   \n",
      "3302      False       False       False        False         False   \n",
      "3303      False       False       False        False         False   \n",
      "3304      False       False       False        False         False   \n",
      "3305      False       False       False        False         False   \n",
      "3306      False       False       False        False         False   \n",
      "3307      False       False       False        False         False   \n",
      "3308      False       False       False        False         False   \n",
      "3309      False       False       False        False         False   \n",
      "3310      False       False       False        False         False   \n",
      "3311      False       False       False        False         False   \n",
      "3312      False       False       False        False         False   \n",
      "3313      False       False       False        False         False   \n",
      "3314      False       False        True        False         False   \n",
      "3315      False       False       False        False         False   \n",
      "3316      False       False       False        False         False   \n",
      "3317      False       False       False        False         False   \n",
      "3318      False       False       False        False         False   \n",
      "\n",
      "      CustServ Calls  Churn?  \n",
      "0              False   False  \n",
      "1              False   False  \n",
      "2              False   False  \n",
      "3              False   False  \n",
      "4              False   False  \n",
      "5              False   False  \n",
      "6              False   False  \n",
      "7              False   False  \n",
      "8              False   False  \n",
      "9              False   False  \n",
      "10             False   False  \n",
      "11             False   False  \n",
      "12             False   False  \n",
      "13             False   False  \n",
      "14             False   False  \n",
      "15             False   False  \n",
      "16             False   False  \n",
      "17             False   False  \n",
      "18             False   False  \n",
      "19             False   False  \n",
      "20             False   False  \n",
      "21             False   False  \n",
      "22             False   False  \n",
      "23             False   False  \n",
      "24             False   False  \n",
      "25             False   False  \n",
      "26             False   False  \n",
      "27             False   False  \n",
      "28             False   False  \n",
      "29             False   False  \n",
      "...              ...     ...  \n",
      "3289           False   False  \n",
      "3290           False   False  \n",
      "3291           False   False  \n",
      "3292           False   False  \n",
      "3293           False   False  \n",
      "3294           False   False  \n",
      "3295           False   False  \n",
      "3296           False   False  \n",
      "3297           False   False  \n",
      "3298           False   False  \n",
      "3299           False   False  \n",
      "3300           False   False  \n",
      "3301           False   False  \n",
      "3302           False   False  \n",
      "3303           False   False  \n",
      "3304           False   False  \n",
      "3305           False   False  \n",
      "3306           False   False  \n",
      "3307           False   False  \n",
      "3308           False   False  \n",
      "3309           False   False  \n",
      "3310           False   False  \n",
      "3311           False   False  \n",
      "3312           False   False  \n",
      "3313           False   False  \n",
      "3314           False   False  \n",
      "3315           False   False  \n",
      "3316           False   False  \n",
      "3317           False   False  \n",
      "3318           False   False  \n",
      "\n",
      "[3319 rows x 18 columns]\n"
     ]
    }
   ],
   "source": [
    "#Detecting outliers \n",
    "Q1,Q3 = np.percentile(churn_data, [25,75])\n",
    "IQR = Q3-Q1\n",
    "\n",
    "lower_limit = Q1 - 1.5*IQR\n",
    "upper_limit = Q3 + 1.5*IQR \n",
    "\n",
    "print((churn_data < lower_limit) | (churn_data > upper_limit)) "
   ]
  },
  {
   "cell_type": "code",
   "execution_count": 15,
   "metadata": {},
   "outputs": [
    {
     "data": {
      "text/plain": [
       "(2336, 18)"
      ]
     },
     "execution_count": 15,
     "metadata": {},
     "output_type": "execute_result"
    }
   ],
   "source": [
    "churn_data_new = churn_data[~((churn_data < (Q1 - 1.5 * IQR)) |(churn_data > (Q3 + 1.5 * IQR))).any(axis=1)]\n",
    "churn_data_new.shape "
   ]
  },
  {
   "cell_type": "code",
   "execution_count": 16,
   "metadata": {},
   "outputs": [
    {
     "data": {
      "text/plain": [
       "(2336, 18)"
      ]
     },
     "execution_count": 16,
     "metadata": {},
     "output_type": "execute_result"
    }
   ],
   "source": [
    "churn_data_new.shape"
   ]
  },
  {
   "cell_type": "markdown",
   "metadata": {},
   "source": [
    "##### Dividing data into train and test set"
   ]
  },
  {
   "cell_type": "code",
   "execution_count": 17,
   "metadata": {},
   "outputs": [
    {
     "data": {
      "text/html": [
       "<div>\n",
       "<style>\n",
       "    .dataframe thead tr:only-child th {\n",
       "        text-align: right;\n",
       "    }\n",
       "\n",
       "    .dataframe thead th {\n",
       "        text-align: left;\n",
       "    }\n",
       "\n",
       "    .dataframe tbody tr th {\n",
       "        vertical-align: top;\n",
       "    }\n",
       "</style>\n",
       "<table border=\"1\" class=\"dataframe\">\n",
       "  <thead>\n",
       "    <tr style=\"text-align: right;\">\n",
       "      <th></th>\n",
       "      <th>Intl Mins</th>\n",
       "      <th>Intl Calls</th>\n",
       "      <th>Intl Charge</th>\n",
       "      <th>Account Length</th>\n",
       "      <th>VMail Plan</th>\n",
       "      <th>VMail Message</th>\n",
       "      <th>Day Mins</th>\n",
       "      <th>Day Calls</th>\n",
       "      <th>Day Charge</th>\n",
       "      <th>Eve Mins</th>\n",
       "      <th>Eve Calls</th>\n",
       "      <th>Eve Charge</th>\n",
       "      <th>Night Mins</th>\n",
       "      <th>Night Calls</th>\n",
       "      <th>Night Charge</th>\n",
       "      <th>CustServ Calls</th>\n",
       "    </tr>\n",
       "  </thead>\n",
       "  <tbody>\n",
       "    <tr>\n",
       "      <th>0</th>\n",
       "      <td>11.8</td>\n",
       "      <td>3.0</td>\n",
       "      <td>3.19</td>\n",
       "      <td>72</td>\n",
       "      <td>0</td>\n",
       "      <td>0.0</td>\n",
       "      <td>175.5</td>\n",
       "      <td>103.0</td>\n",
       "      <td>29.84</td>\n",
       "      <td>132.3</td>\n",
       "      <td>120.0</td>\n",
       "      <td>11.25</td>\n",
       "      <td>242.9</td>\n",
       "      <td>96.0</td>\n",
       "      <td>10.93</td>\n",
       "      <td>1</td>\n",
       "    </tr>\n",
       "    <tr>\n",
       "      <th>1</th>\n",
       "      <td>10.9</td>\n",
       "      <td>1.0</td>\n",
       "      <td>2.94</td>\n",
       "      <td>124</td>\n",
       "      <td>0</td>\n",
       "      <td>0.0</td>\n",
       "      <td>178.3</td>\n",
       "      <td>102.0</td>\n",
       "      <td>30.31</td>\n",
       "      <td>235.0</td>\n",
       "      <td>120.0</td>\n",
       "      <td>19.98</td>\n",
       "      <td>239.7</td>\n",
       "      <td>119.0</td>\n",
       "      <td>10.79</td>\n",
       "      <td>3</td>\n",
       "    </tr>\n",
       "    <tr>\n",
       "      <th>2</th>\n",
       "      <td>10.8</td>\n",
       "      <td>4.0</td>\n",
       "      <td>2.92</td>\n",
       "      <td>78</td>\n",
       "      <td>1</td>\n",
       "      <td>32.0</td>\n",
       "      <td>210.3</td>\n",
       "      <td>116.0</td>\n",
       "      <td>35.75</td>\n",
       "      <td>192.2</td>\n",
       "      <td>83.0</td>\n",
       "      <td>16.34</td>\n",
       "      <td>246.1</td>\n",
       "      <td>92.0</td>\n",
       "      <td>11.07</td>\n",
       "      <td>6</td>\n",
       "    </tr>\n",
       "    <tr>\n",
       "      <th>3</th>\n",
       "      <td>11.2</td>\n",
       "      <td>7.0</td>\n",
       "      <td>3.02</td>\n",
       "      <td>107</td>\n",
       "      <td>0</td>\n",
       "      <td>0.0</td>\n",
       "      <td>194.4</td>\n",
       "      <td>83.0</td>\n",
       "      <td>33.05</td>\n",
       "      <td>247.8</td>\n",
       "      <td>84.0</td>\n",
       "      <td>21.06</td>\n",
       "      <td>245.4</td>\n",
       "      <td>93.0</td>\n",
       "      <td>11.04</td>\n",
       "      <td>2</td>\n",
       "    </tr>\n",
       "    <tr>\n",
       "      <th>5</th>\n",
       "      <td>10.2</td>\n",
       "      <td>5.0</td>\n",
       "      <td>2.75</td>\n",
       "      <td>113</td>\n",
       "      <td>1</td>\n",
       "      <td>23.0</td>\n",
       "      <td>205.0</td>\n",
       "      <td>101.0</td>\n",
       "      <td>34.85</td>\n",
       "      <td>152.0</td>\n",
       "      <td>60.0</td>\n",
       "      <td>12.92</td>\n",
       "      <td>158.6</td>\n",
       "      <td>59.0</td>\n",
       "      <td>7.14</td>\n",
       "      <td>2</td>\n",
       "    </tr>\n",
       "  </tbody>\n",
       "</table>\n",
       "</div>"
      ],
      "text/plain": [
       "   Intl Mins  Intl Calls  Intl Charge  Account Length  VMail Plan  \\\n",
       "0       11.8         3.0         3.19              72           0   \n",
       "1       10.9         1.0         2.94             124           0   \n",
       "2       10.8         4.0         2.92              78           1   \n",
       "3       11.2         7.0         3.02             107           0   \n",
       "5       10.2         5.0         2.75             113           1   \n",
       "\n",
       "   VMail Message  Day Mins  Day Calls  Day Charge  Eve Mins  Eve Calls  \\\n",
       "0            0.0     175.5      103.0       29.84     132.3      120.0   \n",
       "1            0.0     178.3      102.0       30.31     235.0      120.0   \n",
       "2           32.0     210.3      116.0       35.75     192.2       83.0   \n",
       "3            0.0     194.4       83.0       33.05     247.8       84.0   \n",
       "5           23.0     205.0      101.0       34.85     152.0       60.0   \n",
       "\n",
       "   Eve Charge  Night Mins  Night Calls  Night Charge  CustServ Calls  \n",
       "0       11.25       242.9         96.0         10.93               1  \n",
       "1       19.98       239.7        119.0         10.79               3  \n",
       "2       16.34       246.1         92.0         11.07               6  \n",
       "3       21.06       245.4         93.0         11.04               2  \n",
       "5       12.92       158.6         59.0          7.14               2  "
      ]
     },
     "execution_count": 17,
     "metadata": {},
     "output_type": "execute_result"
    }
   ],
   "source": [
    "\n",
    "X_churn = churn_data_new.iloc[: , 1:17]\n",
    "Y_churn = churn_data_new['Churn?']\n",
    "\n",
    "X_train, X_test, Y_train, Y_test = train_test_split(X_churn,Y_churn,test_size = 0.3)\n",
    "X_churn.head()"
   ]
  },
  {
   "cell_type": "code",
   "execution_count": 18,
   "metadata": {},
   "outputs": [
    {
     "data": {
      "text/plain": [
       "1635"
      ]
     },
     "execution_count": 18,
     "metadata": {},
     "output_type": "execute_result"
    }
   ],
   "source": [
    "len(X_train)"
   ]
  },
  {
   "cell_type": "code",
   "execution_count": 19,
   "metadata": {},
   "outputs": [
    {
     "data": {
      "text/plain": [
       "1635"
      ]
     },
     "execution_count": 19,
     "metadata": {},
     "output_type": "execute_result"
    }
   ],
   "source": [
    "len(Y_train)"
   ]
  },
  {
   "cell_type": "markdown",
   "metadata": {},
   "source": [
    "### Model building"
   ]
  },
  {
   "cell_type": "code",
   "execution_count": 47,
   "metadata": {},
   "outputs": [],
   "source": [
    "from sklearn.neighbors import KNeighborsClassifier\n",
    "from sklearn.ensemble import RandomForestClassifier\n",
    "from sklearn.metrics import confusion_matrix\n",
    "from sklearn.metrics import accuracy_score\n",
    "from sklearn.metrics import classification_report"
   ]
  },
  {
   "cell_type": "code",
   "execution_count": 33,
   "metadata": {
    "collapsed": true
   },
   "outputs": [],
   "source": [
    "#Applying KNN classifier on customer churn data\n",
    "KNN = KNeighborsClassifier(n_neighbors = 5)\n",
    "KNN.fit(X_train,Y_train)\n",
    "KNN_predict = KNN.predict(X_test)"
   ]
  },
  {
   "cell_type": "code",
   "execution_count": 39,
   "metadata": {},
   "outputs": [],
   "source": [
    "#Applying RFC classifier on customer churn data\n",
    "RFC = RandomForestClassifier()\n",
    "RFC.fit(X_train,Y_train)\n",
    "RFC_predict = RFC.predict(X_test)"
   ]
  },
  {
   "cell_type": "code",
   "execution_count": 43,
   "metadata": {},
   "outputs": [
    {
     "name": "stdout",
     "output_type": "stream",
     "text": [
      "KNN_accuracy =  0.902995720399 RFC_accuracy =  0.93152639087\n"
     ]
    }
   ],
   "source": [
    "#Accuracy of KNN and RFC\n",
    "KNN_accuracy = accuracy_score(Y_test, KNN_predict)\n",
    "RFC_accuracy = accuracy_score(Y_test, RFC_predict)\n",
    "print('KNN_accuracy = ', KNN_accuracy, 'RFC_accuracy = ', RFC_accuracy)"
   ]
  },
  {
   "cell_type": "code",
   "execution_count": 48,
   "metadata": {},
   "outputs": [
    {
     "name": "stdout",
     "output_type": "stream",
     "text": [
      "KNN_clf_report              precision    recall  f1-score   support\n",
      "\n",
      "          0       0.91      0.99      0.95       637\n",
      "          1       0.00      0.00      0.00        64\n",
      "\n",
      "avg / total       0.83      0.90      0.86       701\n",
      "\n"
     ]
    }
   ],
   "source": [
    "# KNN Classification report \n",
    "print('KNN_clf_report', classification_report(Y_test, KNN_predict))"
   ]
  },
  {
   "cell_type": "code",
   "execution_count": 49,
   "metadata": {},
   "outputs": [
    {
     "name": "stdout",
     "output_type": "stream",
     "text": [
      "RFC_clf_report              precision    recall  f1-score   support\n",
      "\n",
      "          0       0.94      0.98      0.96       637\n",
      "          1       0.71      0.42      0.53        64\n",
      "\n",
      "avg / total       0.92      0.93      0.92       701\n",
      "\n"
     ]
    }
   ],
   "source": [
    "# RFC Classification report \n",
    "print('RFC_clf_report', classification_report(Y_test, RFC_predict))"
   ]
  }
 ],
 "metadata": {
  "kernelspec": {
   "display_name": "Python 3",
   "language": "python",
   "name": "python3"
  },
  "language_info": {
   "codemirror_mode": {
    "name": "ipython",
    "version": 3
   },
   "file_extension": ".py",
   "mimetype": "text/x-python",
   "name": "python",
   "nbconvert_exporter": "python",
   "pygments_lexer": "ipython3",
   "version": "3.6.3"
  }
 },
 "nbformat": 4,
 "nbformat_minor": 2
}
